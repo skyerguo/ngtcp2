{
 "cells": [
  {
   "cell_type": "code",
   "execution_count": 7,
   "metadata": {
    "ExecuteTime": {
     "end_time": "2021-03-13T08:23:04.908956Z",
     "start_time": "2021-03-13T08:23:04.904195Z"
    }
   },
   "outputs": [],
   "source": [
    "import time\n",
    "import datetime\n",
    "import matplotlib.pyplot as plt\n",
    "import os\n",
    "import random\n"
   ]
  },
  {
   "cell_type": "code",
   "execution_count": 18,
   "metadata": {
    "ExecuteTime": {
     "end_time": "2021-03-13T08:23:57.724830Z",
     "start_time": "2021-03-13T08:23:57.713580Z"
    }
   },
   "outputs": [
    {
     "data": {
      "text/plain": [
       "9.055985248322257"
      ]
     },
     "execution_count": 18,
     "metadata": {},
     "output_type": "execute_result"
    }
   ],
   "source": []
  },
  {
   "cell_type": "code",
   "execution_count": 2,
   "metadata": {
    "ExecuteTime": {
     "end_time": "2021-03-13T08:17:57.066239Z",
     "start_time": "2021-03-13T08:17:57.039912Z"
    }
   },
   "outputs": [],
   "source": [
    "def get_FileSize(filePath):\n",
    "#     filePath = unicode(filePath,'utf8')\n",
    "    fsize = os.path.getsize(filePath)\n",
    "    fsize = fsize/float(1024*1024)\n",
    "    return round(fsize,2)"
   ]
  },
  {
   "cell_type": "code",
   "execution_count": 4,
   "metadata": {
    "ExecuteTime": {
     "end_time": "2021-03-13T08:19:12.204699Z",
     "start_time": "2021-03-13T08:19:12.176575Z"
    }
   },
   "outputs": [],
   "source": [
    "root_path = 'video/www.video/src/stream/'\n",
    "\n",
    "size_list = []\n",
    "for file in os.listdir(root_path):\n",
    "    if 'DS_S' in file:\n",
    "        continue\n",
    "#     print(file, get_FileSize(root_path + file))\n",
    "    size_list.append(get_FileSize(root_path + file))"
   ]
  },
  {
   "cell_type": "code",
   "execution_count": 5,
   "metadata": {
    "ExecuteTime": {
     "end_time": "2021-03-13T08:19:14.372198Z",
     "start_time": "2021-03-13T08:19:13.964207Z"
    }
   },
   "outputs": [
    {
     "data": {
      "text/plain": [
       "(array([1., 0., 0., 0., 0., 0., 0., 0., 2., 0., 0., 1., 1., 0., 2., 1., 0.,\n",
       "        1., 1., 1., 0., 0., 1., 1., 0., 0., 0., 0., 0., 1.]),\n",
       " array([0.01      , 0.02566667, 0.04133333, 0.057     , 0.07266667,\n",
       "        0.08833333, 0.104     , 0.11966667, 0.13533333, 0.151     ,\n",
       "        0.16666667, 0.18233333, 0.198     , 0.21366667, 0.22933333,\n",
       "        0.245     , 0.26066667, 0.27633333, 0.292     , 0.30766667,\n",
       "        0.32333333, 0.339     , 0.35466667, 0.37033333, 0.386     ,\n",
       "        0.40166667, 0.41733333, 0.433     , 0.44866667, 0.46433333,\n",
       "        0.48      ]),\n",
       " <a list of 30 Patch objects>)"
      ]
     },
     "execution_count": 5,
     "metadata": {},
     "output_type": "execute_result"
    },
    {
     "data": {
      "image/png": "[encoded data removed]",
      "text/plain": [
       "<Figure size 432x288 with 1 Axes>"
      ]
     },
     "metadata": {
      "needs_background": "light"
     },
     "output_type": "display_data"
    }
   ],
   "source": [
    "plt.hist(size_list,30)"
   ]
  },
  {
   "cell_type": "code",
   "execution_count": null,
   "metadata": {},
   "outputs": [],
   "source": []
  },
  {
   "cell_type": "code",
   "execution_count": 34,
   "metadata": {
    "ExecuteTime": {
     "end_time": "2021-03-12T12:06:14.318748Z",
     "start_time": "2021-03-12T12:06:14.308652Z"
    }
   },
   "outputs": [
    {
     "name": "stdout",
     "output_type": "stream",
     "text": [
      "    <p> <img src=\"src/img/1.jpg\"/> </p> \n",
      "    <p> <img src=\"src/img/2.jpg\"/> </p> \n",
      "    <p> <img src=\"src/img/3.jpg\"/> </p> \n",
      "    <p> <img src=\"src/img/4.jpg\"/> </p> \n",
      "    <p> <img src=\"src/img/5.jpg\"/> </p> \n",
      "    <p> <img src=\"src/img/6.jpg\"/> </p> \n",
      "    <p> <img src=\"src/img/7.jpg\"/> </p> \n",
      "    <p> <img src=\"src/img/8.jpg\"/> </p> \n",
      "    <p> <img src=\"src/img/9.jpg\"/> </p> \n",
      "    <p> <img src=\"src/img/10.jpg\"/> </p> \n",
      "    <p> <img src=\"src/img/11.jpg\"/> </p> \n",
      "    <p> <img src=\"src/img/12.jpg\"/> </p> \n",
      "    <p> <img src=\"src/img/13.jpg\"/> </p> \n",
      "    <p> <img src=\"src/img/14.jpg\"/> </p> \n",
      "    <p> <img src=\"src/img/15.jpg\"/> </p> \n",
      "    <p> <img src=\"src/img/16.jpg\"/> </p> \n",
      "    <p> <img src=\"src/img/17.jpg\"/> </p> \n",
      "    <p> <img src=\"src/img/18.jpg\"/> </p> \n",
      "    <p> <img src=\"src/img/19.jpg\"/> </p> \n",
      "    <p> <img src=\"src/img/20.jpg\"/> </p> \n",
      "    <p> <img src=\"src/img/21.jpg\"/> </p> \n",
      "    <p> <img src=\"src/img/22.jpg\"/> </p> \n",
      "    <p> <img src=\"src/img/23.jpg\"/> </p> \n",
      "    <p> <img src=\"src/img/24.jpg\"/> </p> \n",
      "    <p> <img src=\"src/img/25.jpg\"/> </p> \n",
      "    <p> <img src=\"src/img/26.jpg\"/> </p> \n",
      "    <p> <img src=\"src/img/27.jpg\"/> </p> \n",
      "    <p> <img src=\"src/img/28.jpg\"/> </p> \n",
      "    <p> <img src=\"src/img/29.jpg\"/> </p> \n",
      "    <p> <img src=\"src/img/30.jpg\"/> </p> \n",
      "    <p> <img src=\"src/img/31.jpg\"/> </p> \n",
      "    <p> <img src=\"src/img/32.jpg\"/> </p> \n",
      "    <p> <img src=\"src/img/33.jpg\"/> </p> \n",
      "    <p> <img src=\"src/img/34.jpg\"/> </p> \n",
      "    <p> <img src=\"src/img/35.jpg\"/> </p> \n",
      "    <p> <img src=\"src/img/36.jpg\"/> </p> \n",
      "    <p> <img src=\"src/img/37.jpg\"/> </p> \n",
      "    <p> <img src=\"src/img/38.jpg\"/> </p> \n",
      "    <p> <img src=\"src/img/39.jpg\"/> </p> \n",
      "    <p> <img src=\"src/img/40.jpg\"/> </p> \n",
      "    <p> <img src=\"src/img/41.jpg\"/> </p> \n",
      "    <p> <img src=\"src/img/42.jpg\"/> </p> \n",
      "    <p> <img src=\"src/img/43.jpg\"/> </p> \n",
      "    <p> <img src=\"src/img/44.jpg\"/> </p> \n"
     ]
    }
   ],
   "source": [
    "for i in range(len(size_list)):\n",
    "    print('    <p> <img src=\"src/img/' + str(i+1) + '.jpg\"/> </p> ')"
   ]
  },
  {
   "cell_type": "code",
   "execution_count": null,
   "metadata": {},
   "outputs": [],
   "source": []
  },
  {
   "cell_type": "code",
   "execution_count": 23,
   "metadata": {
    "ExecuteTime": {
     "end_time": "2021-03-13T08:34:01.732787Z",
     "start_time": "2021-03-13T08:34:01.646117Z"
    }
   },
   "outputs": [
    {
     "name": "stdout",
     "output_type": "stream",
     "text": [
      "n_churnk:2\n",
      "n_churnk:2\n",
      "n_churnk:73\n",
      "n_churnk:81\n",
      "n_churnk:62\n",
      "n_churnk:76\n",
      "n_churnk:80\n",
      "n_churnk:93\n",
      "n_churnk:42\n",
      "n_churnk:23\n",
      "n_churnk:66\n",
      "n_churnk:22\n",
      "n_churnk:9\n",
      "n_churnk:81\n",
      "n_churnk:16\n",
      "n_churnk:26\n",
      "n_churnk:11\n",
      "n_churnk:63\n",
      "n_churnk:47\n",
      "n_churnk:81\n",
      "n_churnk:64\n",
      "n_churnk:64\n",
      "n_churnk:10\n",
      "n_churnk:74\n",
      "n_churnk:84\n",
      "n_churnk:83\n",
      "n_churnk:57\n",
      "n_churnk:48\n",
      "n_churnk:80\n",
      "n_churnk:63\n",
      "n_churnk:85\n",
      "n_churnk:37\n",
      "n_churnk:20\n",
      "n_churnk:76\n",
      "n_churnk:19\n",
      "n_churnk:99\n",
      "n_churnk:29\n",
      "n_churnk:78\n",
      "n_churnk:29\n",
      "n_churnk:35\n",
      "n_churnk:40\n",
      "n_churnk:19\n",
      "n_churnk:68\n",
      "n_churnk:60\n",
      "n_churnk:13\n",
      "n_churnk:20\n",
      "n_churnk:23\n",
      "n_churnk:21\n",
      "n_churnk:4\n",
      "n_churnk:73\n"
     ]
    }
   ],
   "source": [
    "root_path = 'video/www.video/src/stream/'\n",
    "stream_files = os.listdir(root_path)\n",
    "\n",
    "n_trace = 50\n",
    "for i in range(n_trace):\n",
    "    n_churnk = int(random.random()*100)\n",
    "    print('n_churnk:' + str(n_churnk))\n",
    "    with open('video/www.video/src/browsing_trace/' + str(i) + '.html', 'w') as f:\n",
    "        f.write('<html>\\n<head>\\n<title>test-video</title>\\n</head>\\n<body>\\n')\n",
    "        for j in range(n_churnk):\n",
    "            index_mp4file = int(random.random()*len(stream_files))\n",
    "            f.write('    <p> <video  controls> <source src=\"../src/video/' + str(index_mp4file) + '.mp4\" ></video> </p>\\n')\n",
    "        f.write('</body>\\n</html>\\n')\n"
   ]
  },
  {
   "cell_type": "code",
   "execution_count": null,
   "metadata": {},
   "outputs": [],
   "source": []
  }
 ],
 "metadata": {
  "kernelspec": {
   "display_name": "Python 3",
   "language": "python",
   "name": "python3"
  },
  "language_info": {
   "codemirror_mode": {
    "name": "ipython",
    "version": 3
   },
   "file_extension": ".py",
   "mimetype": "text/x-python",
   "name": "python",
   "nbconvert_exporter": "python",
   "pygments_lexer": "ipython3",
   "version": "3.7.7"
  },
  "toc": {
   "base_numbering": 1,
   "nav_menu": {},
   "number_sections": true,
   "sideBar": true,
   "skip_h1_title": false,
   "title_cell": "Table of Contents",
   "title_sidebar": "Contents",
   "toc_cell": false,
   "toc_position": {},
   "toc_section_display": true,
   "toc_window_display": false
  }
 },
 "nbformat": 4,
 "nbformat_minor": 4
}
